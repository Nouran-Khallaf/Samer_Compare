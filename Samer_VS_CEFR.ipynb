{
  "nbformat": 4,
  "nbformat_minor": 0,
  "metadata": {
    "colab": {
      "name": "Samer_VS_CEFR.ipynb",
      "provenance": [],
      "toc_visible": true,
      "mount_file_id": "11uftBg18I6_apWvnhBLiLwuLroM-Vpyt",
      "authorship_tag": "ABX9TyODtwoBxwiWVmOHMM/iNavJ",
      "include_colab_link": true
    },
    "kernelspec": {
      "name": "python3",
      "display_name": "Python 3"
    }
  },
  "cells": [
    {
      "cell_type": "markdown",
      "metadata": {
        "id": "view-in-github",
        "colab_type": "text"
      },
      "source": [
        "<a href=\"https://colab.research.google.com/github/Nouran-Khallaf/Samer_Compare/blob/main/Samer_VS_CEFR.ipynb\" target=\"_parent\"><img src=\"https://colab.research.google.com/assets/colab-badge.svg\" alt=\"Open In Colab\"/></a>"
      ]
    },
    {
      "cell_type": "code",
      "metadata": {
        "id": "4s8GBLniT-xx"
      },
      "source": [
        "import pandas as pd"
      ],
      "execution_count": null,
      "outputs": []
    },
    {
      "cell_type": "markdown",
      "metadata": {
        "id": "HxfWVLSaam9j"
      },
      "source": [
        "# New Section"
      ]
    },
    {
      "cell_type": "code",
      "metadata": {
        "id": "gFYWOKnjXwOG"
      },
      "source": [
        "DataSet_1 = pd.read_csv('/content/Samer.csv')\r\n",
        "DataSet_2 = pd.read_excel('/content/Our_List_numbered.xlsx')\r\n",
        "Samer = DataSet_1[[\"lemma\", \"readability\"]]\r\n",
        "CEFR = DataSet_2[[\"lemma\",\"Levels\"]]"
      ],
      "execution_count": null,
      "outputs": []
    },
    {
      "cell_type": "code",
      "metadata": {
        "id": "5tePiIBPX0GF"
      },
      "source": [
        "mergedStuff = pd.merge(DataSet_1, DataSet_2,  how='left', left_on=['lemma','pos'], right_on = ['lemma','pos'])"
      ],
      "execution_count": null,
      "outputs": []
    },
    {
      "cell_type": "code",
      "metadata": {
        "colab": {
          "base_uri": "https://localhost:8080/",
          "height": 402
        },
        "id": "HDajERDpYOT3",
        "outputId": "fa704aba-6772-4b5c-e480-ec949bf43ef0"
      },
      "source": [
        "mergedStuff"
      ],
      "execution_count": null,
      "outputs": [
        {
          "output_type": "execute_result",
          "data": {
            "text/html": [
              "<div>\n",
              "<style scoped>\n",
              "    .dataframe tbody tr th:only-of-type {\n",
              "        vertical-align: middle;\n",
              "    }\n",
              "\n",
              "    .dataframe tbody tr th {\n",
              "        vertical-align: top;\n",
              "    }\n",
              "\n",
              "    .dataframe thead th {\n",
              "        text-align: right;\n",
              "    }\n",
              "</style>\n",
              "<table border=\"1\" class=\"dataframe\">\n",
              "  <thead>\n",
              "    <tr style=\"text-align: right;\">\n",
              "      <th></th>\n",
              "      <th>Word</th>\n",
              "      <th>pos</th>\n",
              "      <th>readability</th>\n",
              "      <th>lemma</th>\n",
              "      <th>diac_x</th>\n",
              "      <th>Levels</th>\n",
              "      <th>diac_y</th>\n",
              "    </tr>\n",
              "  </thead>\n",
              "  <tbody>\n",
              "    <tr>\n",
              "      <th>0</th>\n",
              "      <td>فِي</td>\n",
              "      <td>prep</td>\n",
              "      <td>1</td>\n",
              "      <td>فِي_1</td>\n",
              "      <td>فِي</td>\n",
              "      <td>1.0</td>\n",
              "      <td>فِي</td>\n",
              "    </tr>\n",
              "    <tr>\n",
              "      <th>1</th>\n",
              "      <td>مِن</td>\n",
              "      <td>prep</td>\n",
              "      <td>1</td>\n",
              "      <td>مِن_1</td>\n",
              "      <td>مِن</td>\n",
              "      <td>5.0</td>\n",
              "      <td>فَمِنهُم</td>\n",
              "    </tr>\n",
              "    <tr>\n",
              "      <th>2</th>\n",
              "      <td>مِن</td>\n",
              "      <td>prep</td>\n",
              "      <td>1</td>\n",
              "      <td>مِن_1</td>\n",
              "      <td>مِن</td>\n",
              "      <td>1.0</td>\n",
              "      <td>مِن</td>\n",
              "    </tr>\n",
              "    <tr>\n",
              "      <th>3</th>\n",
              "      <td>مِن</td>\n",
              "      <td>prep</td>\n",
              "      <td>1</td>\n",
              "      <td>مِن_1</td>\n",
              "      <td>مِن</td>\n",
              "      <td>5.0</td>\n",
              "      <td>مِمّا</td>\n",
              "    </tr>\n",
              "    <tr>\n",
              "      <th>4</th>\n",
              "      <td>أَنَّ</td>\n",
              "      <td>conj_sub</td>\n",
              "      <td>2</td>\n",
              "      <td>أَنَّ_1</td>\n",
              "      <td>أَنَّ</td>\n",
              "      <td>4.0</td>\n",
              "      <td>أَنِّي</td>\n",
              "    </tr>\n",
              "    <tr>\n",
              "      <th>...</th>\n",
              "      <td>...</td>\n",
              "      <td>...</td>\n",
              "      <td>...</td>\n",
              "      <td>...</td>\n",
              "      <td>...</td>\n",
              "      <td>...</td>\n",
              "      <td>...</td>\n",
              "    </tr>\n",
              "    <tr>\n",
              "      <th>28341</th>\n",
              "      <td>وَفَّد</td>\n",
              "      <td>verb</td>\n",
              "      <td>5</td>\n",
              "      <td>وَفْد_1</td>\n",
              "      <td>وَفْدٌ</td>\n",
              "      <td>NaN</td>\n",
              "      <td>NaN</td>\n",
              "    </tr>\n",
              "    <tr>\n",
              "      <th>28342</th>\n",
              "      <td>وَقْفِيَّة</td>\n",
              "      <td>noun</td>\n",
              "      <td>5</td>\n",
              "      <td>وَقْفِيّ_1</td>\n",
              "      <td>وَقْفِيَّةً</td>\n",
              "      <td>NaN</td>\n",
              "      <td>NaN</td>\n",
              "    </tr>\n",
              "    <tr>\n",
              "      <th>28343</th>\n",
              "      <td>وَلَّه</td>\n",
              "      <td>verb</td>\n",
              "      <td>5</td>\n",
              "      <td>لِ-_1</td>\n",
              "      <td>وَلَهُ</td>\n",
              "      <td>NaN</td>\n",
              "      <td>NaN</td>\n",
              "    </tr>\n",
              "    <tr>\n",
              "      <th>28344</th>\n",
              "      <td>وَهَّل</td>\n",
              "      <td>verb</td>\n",
              "      <td>5</td>\n",
              "      <td>هَلْ_1</td>\n",
              "      <td>وَهَلْ</td>\n",
              "      <td>NaN</td>\n",
              "      <td>NaN</td>\n",
              "    </tr>\n",
              "    <tr>\n",
              "      <th>28345</th>\n",
              "      <td>يَوَّد</td>\n",
              "      <td>verb</td>\n",
              "      <td>5</td>\n",
              "      <td>وَدّ-َ_1</td>\n",
              "      <td>يَوَدُّ</td>\n",
              "      <td>5.0</td>\n",
              "      <td>أَوَدُّ</td>\n",
              "    </tr>\n",
              "  </tbody>\n",
              "</table>\n",
              "<p>28346 rows × 7 columns</p>\n",
              "</div>"
            ],
            "text/plain": [
              "             Word       pos  readability  ...       diac_x Levels    diac_y\n",
              "0             فِي      prep            1  ...          فِي    1.0       فِي\n",
              "1             مِن      prep            1  ...          مِن    5.0  فَمِنهُم\n",
              "2             مِن      prep            1  ...          مِن    1.0       مِن\n",
              "3             مِن      prep            1  ...          مِن    5.0     مِمّا\n",
              "4           أَنَّ  conj_sub            2  ...        أَنَّ    4.0    أَنِّي\n",
              "...           ...       ...          ...  ...          ...    ...       ...\n",
              "28341      وَفَّد      verb            5  ...       وَفْدٌ    NaN       NaN\n",
              "28342  وَقْفِيَّة      noun            5  ...  وَقْفِيَّةً    NaN       NaN\n",
              "28343      وَلَّه      verb            5  ...       وَلَهُ    NaN       NaN\n",
              "28344      وَهَّل      verb            5  ...       وَهَلْ    NaN       NaN\n",
              "28345      يَوَّد      verb            5  ...      يَوَدُّ    5.0   أَوَدُّ\n",
              "\n",
              "[28346 rows x 7 columns]"
            ]
          },
          "metadata": {
            "tags": []
          },
          "execution_count": 6
        }
      ]
    },
    {
      "cell_type": "code",
      "metadata": {
        "id": "cDf2hOZtYP_2"
      },
      "source": [
        "mergedStuff.to_csv('mergedStuff_4.csv')"
      ],
      "execution_count": null,
      "outputs": []
    },
    {
      "cell_type": "code",
      "metadata": {
        "id": "ogp_n9h3YXg-"
      },
      "source": [
        ""
      ],
      "execution_count": null,
      "outputs": []
    }
  ]
}