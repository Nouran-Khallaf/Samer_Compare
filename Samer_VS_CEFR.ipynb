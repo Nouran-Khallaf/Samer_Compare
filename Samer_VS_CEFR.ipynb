{
  "nbformat": 4,
  "nbformat_minor": 0,
  "metadata": {
    "colab": {
      "name": "Copy of Samer_VS_CEFR.ipynb",
      "provenance": [],
      "collapsed_sections": [],
      "toc_visible": true,
      "mount_file_id": "11uftBg18I6_apWvnhBLiLwuLroM-Vpyt",
      "authorship_tag": "ABX9TyPbFpyVclRmZhx4aWqVAnsb",
      "include_colab_link": true
    },
    "kernelspec": {
      "name": "python3",
      "display_name": "Python 3"
    }
  },
  "cells": [
    {
      "cell_type": "markdown",
      "metadata": {
        "id": "view-in-github",
        "colab_type": "text"
      },
      "source": [
        "<a href=\"https://colab.research.google.com/github/Nouran-Khallaf/Samer_Compare/blob/main/Copy_of_Samer_VS_CEFR.ipynb\" target=\"_parent\"><img src=\"https://colab.research.google.com/assets/colab-badge.svg\" alt=\"Open In Colab\"/></a>"
      ]
    },
    {
      "cell_type": "code",
      "metadata": {
        "id": "4s8GBLniT-xx"
      },
      "source": [
        "import pandas as pd\r\n",
        "import matplotlib.pyplot as plt\r\n",
        "import seaborn as sns\r\n",
        "from collections import Counter"
      ],
      "execution_count": 2,
      "outputs": []
    },
    {
      "cell_type": "markdown",
      "metadata": {
        "id": "HxfWVLSaam9j"
      },
      "source": [
        "# Load Data\r\n",
        "  Both Samer and our list are analysed first with MadaMira and using lemma to compare"
      ]
    },
    {
      "cell_type": "code",
      "metadata": {
        "id": "gFYWOKnjXwOG"
      },
      "source": [
        "DataSet_1 = pd.read_csv('/content/Samer.csv')\r\n",
        "DataSet_2 = pd.read_excel('/content/Our_List_numbered.xlsx')\r\n",
        "Samer = DataSet_1[[\"lemma\", \"readability\"]]\r\n",
        "CEFR = DataSet_2[[\"lemma\",\"Levels\"]]"
      ],
      "execution_count": 5,
      "outputs": []
    },
    {
      "cell_type": "markdown",
      "metadata": {
        "id": "5GMYd00iodJn"
      },
      "source": [
        "Merge both list depending on matching both lemma and pos at the sametime."
      ]
    },
    {
      "cell_type": "code",
      "metadata": {
        "id": "ogp_n9h3YXg-"
      },
      "source": [
        "MergedList = DataSet_1.merge( DataSet_2,  how='left', left_on=['lemma','pos'], right_on = ['lemma','pos'], indicator=True)\r\n",
        "MergedList.to_csv('mergedList.csv')"
      ],
      "execution_count": 6,
      "outputs": []
    },
    {
      "cell_type": "markdown",
      "metadata": {
        "id": "FXFKHhiDpvex"
      },
      "source": [
        "Display the merged list:"
      ]
    },
    {
      "cell_type": "code",
      "metadata": {
        "colab": {
          "base_uri": "https://localhost:8080/",
          "height": 408
        },
        "id": "RQHwPvHzKMBE",
        "outputId": "fa23a8d6-e1cb-47bf-861f-8db4cd773750"
      },
      "source": [
        "MergedList"
      ],
      "execution_count": null,
      "outputs": [
        {
          "output_type": "execute_result",
          "data": {
            "text/html": [
              "<div>\n",
              "<style scoped>\n",
              "    .dataframe tbody tr th:only-of-type {\n",
              "        vertical-align: middle;\n",
              "    }\n",
              "\n",
              "    .dataframe tbody tr th {\n",
              "        vertical-align: top;\n",
              "    }\n",
              "\n",
              "    .dataframe thead th {\n",
              "        text-align: right;\n",
              "    }\n",
              "</style>\n",
              "<table border=\"1\" class=\"dataframe\">\n",
              "  <thead>\n",
              "    <tr style=\"text-align: right;\">\n",
              "      <th></th>\n",
              "      <th>Word</th>\n",
              "      <th>pos</th>\n",
              "      <th>readability</th>\n",
              "      <th>lemma</th>\n",
              "      <th>diac_x</th>\n",
              "      <th>Levels</th>\n",
              "      <th>diac_y</th>\n",
              "      <th>_merge</th>\n",
              "    </tr>\n",
              "  </thead>\n",
              "  <tbody>\n",
              "    <tr>\n",
              "      <th>0</th>\n",
              "      <td>فِي</td>\n",
              "      <td>prep</td>\n",
              "      <td>1</td>\n",
              "      <td>فِي_1</td>\n",
              "      <td>فِي</td>\n",
              "      <td>1.0</td>\n",
              "      <td>فِي</td>\n",
              "      <td>both</td>\n",
              "    </tr>\n",
              "    <tr>\n",
              "      <th>1</th>\n",
              "      <td>مِن</td>\n",
              "      <td>prep</td>\n",
              "      <td>1</td>\n",
              "      <td>مِن_1</td>\n",
              "      <td>مِن</td>\n",
              "      <td>5.0</td>\n",
              "      <td>فَمِنهُم</td>\n",
              "      <td>both</td>\n",
              "    </tr>\n",
              "    <tr>\n",
              "      <th>2</th>\n",
              "      <td>مِن</td>\n",
              "      <td>prep</td>\n",
              "      <td>1</td>\n",
              "      <td>مِن_1</td>\n",
              "      <td>مِن</td>\n",
              "      <td>1.0</td>\n",
              "      <td>مِن</td>\n",
              "      <td>both</td>\n",
              "    </tr>\n",
              "    <tr>\n",
              "      <th>3</th>\n",
              "      <td>مِن</td>\n",
              "      <td>prep</td>\n",
              "      <td>1</td>\n",
              "      <td>مِن_1</td>\n",
              "      <td>مِن</td>\n",
              "      <td>5.0</td>\n",
              "      <td>مِمّا</td>\n",
              "      <td>both</td>\n",
              "    </tr>\n",
              "    <tr>\n",
              "      <th>4</th>\n",
              "      <td>أَنَّ</td>\n",
              "      <td>conj_sub</td>\n",
              "      <td>2</td>\n",
              "      <td>أَنَّ_1</td>\n",
              "      <td>أَنَّ</td>\n",
              "      <td>4.0</td>\n",
              "      <td>أَنِّي</td>\n",
              "      <td>both</td>\n",
              "    </tr>\n",
              "    <tr>\n",
              "      <th>...</th>\n",
              "      <td>...</td>\n",
              "      <td>...</td>\n",
              "      <td>...</td>\n",
              "      <td>...</td>\n",
              "      <td>...</td>\n",
              "      <td>...</td>\n",
              "      <td>...</td>\n",
              "      <td>...</td>\n",
              "    </tr>\n",
              "    <tr>\n",
              "      <th>28341</th>\n",
              "      <td>وَفَّد</td>\n",
              "      <td>verb</td>\n",
              "      <td>5</td>\n",
              "      <td>وَفْد_1</td>\n",
              "      <td>وَفْدٌ</td>\n",
              "      <td>NaN</td>\n",
              "      <td>NaN</td>\n",
              "      <td>left_only</td>\n",
              "    </tr>\n",
              "    <tr>\n",
              "      <th>28342</th>\n",
              "      <td>وَقْفِيَّة</td>\n",
              "      <td>noun</td>\n",
              "      <td>5</td>\n",
              "      <td>وَقْفِيّ_1</td>\n",
              "      <td>وَقْفِيَّةً</td>\n",
              "      <td>NaN</td>\n",
              "      <td>NaN</td>\n",
              "      <td>left_only</td>\n",
              "    </tr>\n",
              "    <tr>\n",
              "      <th>28343</th>\n",
              "      <td>وَلَّه</td>\n",
              "      <td>verb</td>\n",
              "      <td>5</td>\n",
              "      <td>لِ-_1</td>\n",
              "      <td>وَلَهُ</td>\n",
              "      <td>NaN</td>\n",
              "      <td>NaN</td>\n",
              "      <td>left_only</td>\n",
              "    </tr>\n",
              "    <tr>\n",
              "      <th>28344</th>\n",
              "      <td>وَهَّل</td>\n",
              "      <td>verb</td>\n",
              "      <td>5</td>\n",
              "      <td>هَلْ_1</td>\n",
              "      <td>وَهَلْ</td>\n",
              "      <td>NaN</td>\n",
              "      <td>NaN</td>\n",
              "      <td>left_only</td>\n",
              "    </tr>\n",
              "    <tr>\n",
              "      <th>28345</th>\n",
              "      <td>يَوَّد</td>\n",
              "      <td>verb</td>\n",
              "      <td>5</td>\n",
              "      <td>وَدّ-َ_1</td>\n",
              "      <td>يَوَدُّ</td>\n",
              "      <td>5.0</td>\n",
              "      <td>أَوَدُّ</td>\n",
              "      <td>both</td>\n",
              "    </tr>\n",
              "  </tbody>\n",
              "</table>\n",
              "<p>28346 rows × 8 columns</p>\n",
              "</div>"
            ],
            "text/plain": [
              "             Word       pos  readability  ... Levels    diac_y     _merge\n",
              "0             فِي      prep            1  ...    1.0       فِي       both\n",
              "1             مِن      prep            1  ...    5.0  فَمِنهُم       both\n",
              "2             مِن      prep            1  ...    1.0       مِن       both\n",
              "3             مِن      prep            1  ...    5.0     مِمّا       both\n",
              "4           أَنَّ  conj_sub            2  ...    4.0    أَنِّي       both\n",
              "...           ...       ...          ...  ...    ...       ...        ...\n",
              "28341      وَفَّد      verb            5  ...    NaN       NaN  left_only\n",
              "28342  وَقْفِيَّة      noun            5  ...    NaN       NaN  left_only\n",
              "28343      وَلَّه      verb            5  ...    NaN       NaN  left_only\n",
              "28344      وَهَّل      verb            5  ...    NaN       NaN  left_only\n",
              "28345      يَوَّد      verb            5  ...    5.0   أَوَدُّ       both\n",
              "\n",
              "[28346 rows x 8 columns]"
            ]
          },
          "metadata": {
            "tags": []
          },
          "execution_count": 15
        }
      ]
    },
    {
      "cell_type": "markdown",
      "metadata": {
        "id": "OxnO5C6vp4Af"
      },
      "source": [
        "Select only the lemmas appeared in both lists -->8700 lemma"
      ]
    },
    {
      "cell_type": "code",
      "metadata": {
        "colab": {
          "base_uri": "https://localhost:8080/",
          "height": 408
        },
        "id": "q8gduiNcKMfx",
        "outputId": "7b8d3f02-ae82-42de-a2e3-78780bbefe4e"
      },
      "source": [
        "MergedList.loc[MergedList['_merge'] == 'both']"
      ],
      "execution_count": 7,
      "outputs": [
        {
          "output_type": "execute_result",
          "data": {
            "text/html": [
              "<div>\n",
              "<style scoped>\n",
              "    .dataframe tbody tr th:only-of-type {\n",
              "        vertical-align: middle;\n",
              "    }\n",
              "\n",
              "    .dataframe tbody tr th {\n",
              "        vertical-align: top;\n",
              "    }\n",
              "\n",
              "    .dataframe thead th {\n",
              "        text-align: right;\n",
              "    }\n",
              "</style>\n",
              "<table border=\"1\" class=\"dataframe\">\n",
              "  <thead>\n",
              "    <tr style=\"text-align: right;\">\n",
              "      <th></th>\n",
              "      <th>Word</th>\n",
              "      <th>pos</th>\n",
              "      <th>readability</th>\n",
              "      <th>lemma</th>\n",
              "      <th>diac_x</th>\n",
              "      <th>Levels</th>\n",
              "      <th>diac_y</th>\n",
              "      <th>_merge</th>\n",
              "    </tr>\n",
              "  </thead>\n",
              "  <tbody>\n",
              "    <tr>\n",
              "      <th>0</th>\n",
              "      <td>فِي</td>\n",
              "      <td>prep</td>\n",
              "      <td>1</td>\n",
              "      <td>فِي_1</td>\n",
              "      <td>فِي</td>\n",
              "      <td>1.0</td>\n",
              "      <td>فِي</td>\n",
              "      <td>both</td>\n",
              "    </tr>\n",
              "    <tr>\n",
              "      <th>1</th>\n",
              "      <td>مِن</td>\n",
              "      <td>prep</td>\n",
              "      <td>1</td>\n",
              "      <td>مِن_1</td>\n",
              "      <td>مِن</td>\n",
              "      <td>5.0</td>\n",
              "      <td>فَمِنهُم</td>\n",
              "      <td>both</td>\n",
              "    </tr>\n",
              "    <tr>\n",
              "      <th>2</th>\n",
              "      <td>مِن</td>\n",
              "      <td>prep</td>\n",
              "      <td>1</td>\n",
              "      <td>مِن_1</td>\n",
              "      <td>مِن</td>\n",
              "      <td>1.0</td>\n",
              "      <td>مِن</td>\n",
              "      <td>both</td>\n",
              "    </tr>\n",
              "    <tr>\n",
              "      <th>3</th>\n",
              "      <td>مِن</td>\n",
              "      <td>prep</td>\n",
              "      <td>1</td>\n",
              "      <td>مِن_1</td>\n",
              "      <td>مِن</td>\n",
              "      <td>5.0</td>\n",
              "      <td>مِمّا</td>\n",
              "      <td>both</td>\n",
              "    </tr>\n",
              "    <tr>\n",
              "      <th>4</th>\n",
              "      <td>أَنَّ</td>\n",
              "      <td>conj_sub</td>\n",
              "      <td>2</td>\n",
              "      <td>أَنَّ_1</td>\n",
              "      <td>أَنَّ</td>\n",
              "      <td>4.0</td>\n",
              "      <td>أَنِّي</td>\n",
              "      <td>both</td>\n",
              "    </tr>\n",
              "    <tr>\n",
              "      <th>...</th>\n",
              "      <td>...</td>\n",
              "      <td>...</td>\n",
              "      <td>...</td>\n",
              "      <td>...</td>\n",
              "      <td>...</td>\n",
              "      <td>...</td>\n",
              "      <td>...</td>\n",
              "      <td>...</td>\n",
              "    </tr>\n",
              "    <tr>\n",
              "      <th>28291</th>\n",
              "      <td>مُقَنَّع</td>\n",
              "      <td>adj</td>\n",
              "      <td>3</td>\n",
              "      <td>مُقْنِع_1</td>\n",
              "      <td>مُقْنِعٍ</td>\n",
              "      <td>4.0</td>\n",
              "      <td>مُقْنِعٍ</td>\n",
              "      <td>both</td>\n",
              "    </tr>\n",
              "    <tr>\n",
              "      <th>28319</th>\n",
              "      <td>نُدُوَّة</td>\n",
              "      <td>noun</td>\n",
              "      <td>5</td>\n",
              "      <td>نَدْوَة_1</td>\n",
              "      <td>نَدْوَةً</td>\n",
              "      <td>5.0</td>\n",
              "      <td>نَدْوَةَ</td>\n",
              "      <td>both</td>\n",
              "    </tr>\n",
              "    <tr>\n",
              "      <th>28326</th>\n",
              "      <td>نَكَه</td>\n",
              "      <td>verb</td>\n",
              "      <td>5</td>\n",
              "      <td>وَكَى-ِ_1</td>\n",
              "      <td>نَكِهِ</td>\n",
              "      <td>5.0</td>\n",
              "      <td>أُوكَى</td>\n",
              "      <td>both</td>\n",
              "    </tr>\n",
              "    <tr>\n",
              "      <th>28334</th>\n",
              "      <td>وَرَّد</td>\n",
              "      <td>verb</td>\n",
              "      <td>4</td>\n",
              "      <td>رَدّ-ُ_1</td>\n",
              "      <td>وَرَدَّ</td>\n",
              "      <td>3.0</td>\n",
              "      <td>تَرُدُّ</td>\n",
              "      <td>both</td>\n",
              "    </tr>\n",
              "    <tr>\n",
              "      <th>28345</th>\n",
              "      <td>يَوَّد</td>\n",
              "      <td>verb</td>\n",
              "      <td>5</td>\n",
              "      <td>وَدّ-َ_1</td>\n",
              "      <td>يَوَدُّ</td>\n",
              "      <td>5.0</td>\n",
              "      <td>أَوَدُّ</td>\n",
              "      <td>both</td>\n",
              "    </tr>\n",
              "  </tbody>\n",
              "</table>\n",
              "<p>8700 rows × 8 columns</p>\n",
              "</div>"
            ],
            "text/plain": [
              "           Word       pos  readability  ... Levels    diac_y  _merge\n",
              "0           فِي      prep            1  ...    1.0       فِي    both\n",
              "1           مِن      prep            1  ...    5.0  فَمِنهُم    both\n",
              "2           مِن      prep            1  ...    1.0       مِن    both\n",
              "3           مِن      prep            1  ...    5.0     مِمّا    both\n",
              "4         أَنَّ  conj_sub            2  ...    4.0    أَنِّي    both\n",
              "...         ...       ...          ...  ...    ...       ...     ...\n",
              "28291  مُقَنَّع       adj            3  ...    4.0  مُقْنِعٍ    both\n",
              "28319  نُدُوَّة      noun            5  ...    5.0  نَدْوَةَ    both\n",
              "28326     نَكَه      verb            5  ...    5.0    أُوكَى    both\n",
              "28334    وَرَّد      verb            4  ...    3.0   تَرُدُّ    both\n",
              "28345    يَوَّد      verb            5  ...    5.0   أَوَدُّ    both\n",
              "\n",
              "[8700 rows x 8 columns]"
            ]
          },
          "metadata": {
            "tags": []
          },
          "execution_count": 7
        }
      ]
    },
    {
      "cell_type": "markdown",
      "metadata": {
        "id": "2YKocAZoqQ-e"
      },
      "source": [
        "Select the lemmas that only appeared in Samer List---> 19646 lemma"
      ]
    },
    {
      "cell_type": "code",
      "metadata": {
        "colab": {
          "base_uri": "https://localhost:8080/",
          "height": 408
        },
        "id": "EehlT1tkKZ49",
        "outputId": "d0612680-1764-4328-9563-100e16731faa"
      },
      "source": [
        "MergedList.loc[MergedList['_merge'] == 'left_only']"
      ],
      "execution_count": 8,
      "outputs": [
        {
          "output_type": "execute_result",
          "data": {
            "text/html": [
              "<div>\n",
              "<style scoped>\n",
              "    .dataframe tbody tr th:only-of-type {\n",
              "        vertical-align: middle;\n",
              "    }\n",
              "\n",
              "    .dataframe tbody tr th {\n",
              "        vertical-align: top;\n",
              "    }\n",
              "\n",
              "    .dataframe thead th {\n",
              "        text-align: right;\n",
              "    }\n",
              "</style>\n",
              "<table border=\"1\" class=\"dataframe\">\n",
              "  <thead>\n",
              "    <tr style=\"text-align: right;\">\n",
              "      <th></th>\n",
              "      <th>Word</th>\n",
              "      <th>pos</th>\n",
              "      <th>readability</th>\n",
              "      <th>lemma</th>\n",
              "      <th>diac_x</th>\n",
              "      <th>Levels</th>\n",
              "      <th>diac_y</th>\n",
              "      <th>_merge</th>\n",
              "    </tr>\n",
              "  </thead>\n",
              "  <tbody>\n",
              "    <tr>\n",
              "      <th>28</th>\n",
              "      <td>لا</td>\n",
              "      <td>part_neg</td>\n",
              "      <td>1</td>\n",
              "      <td>لا_1</td>\n",
              "      <td>لا</td>\n",
              "      <td>NaN</td>\n",
              "      <td>NaN</td>\n",
              "      <td>left_only</td>\n",
              "    </tr>\n",
              "    <tr>\n",
              "      <th>55</th>\n",
              "      <td>إِنَّ</td>\n",
              "      <td>verb_pseudo</td>\n",
              "      <td>3</td>\n",
              "      <td>إِنْ_1</td>\n",
              "      <td>إِنْ</td>\n",
              "      <td>NaN</td>\n",
              "      <td>NaN</td>\n",
              "      <td>left_only</td>\n",
              "    </tr>\n",
              "    <tr>\n",
              "      <th>58</th>\n",
              "      <td>رَأَى</td>\n",
              "      <td>verb</td>\n",
              "      <td>1</td>\n",
              "      <td>رَأْي_1</td>\n",
              "      <td>رَأْيِ</td>\n",
              "      <td>NaN</td>\n",
              "      <td>NaN</td>\n",
              "      <td>left_only</td>\n",
              "    </tr>\n",
              "    <tr>\n",
              "      <th>65</th>\n",
              "      <td>لٰكِنَّ</td>\n",
              "      <td>verb_pseudo</td>\n",
              "      <td>2</td>\n",
              "      <td>لٰكِنَّ_1</td>\n",
              "      <td>لٰكِنَّ</td>\n",
              "      <td>NaN</td>\n",
              "      <td>NaN</td>\n",
              "      <td>left_only</td>\n",
              "    </tr>\n",
              "    <tr>\n",
              "      <th>98</th>\n",
              "      <td>إِلّا</td>\n",
              "      <td>part_restrict</td>\n",
              "      <td>1</td>\n",
              "      <td>إِلّا_2</td>\n",
              "      <td>إِلّا</td>\n",
              "      <td>NaN</td>\n",
              "      <td>NaN</td>\n",
              "      <td>left_only</td>\n",
              "    </tr>\n",
              "    <tr>\n",
              "      <th>...</th>\n",
              "      <td>...</td>\n",
              "      <td>...</td>\n",
              "      <td>...</td>\n",
              "      <td>...</td>\n",
              "      <td>...</td>\n",
              "      <td>...</td>\n",
              "      <td>...</td>\n",
              "      <td>...</td>\n",
              "    </tr>\n",
              "    <tr>\n",
              "      <th>28340</th>\n",
              "      <td>وَظِيفِيَّة</td>\n",
              "      <td>noun</td>\n",
              "      <td>4</td>\n",
              "      <td>وَظِيفِيَّة_1</td>\n",
              "      <td>وَظِيفِيَّةَ</td>\n",
              "      <td>NaN</td>\n",
              "      <td>NaN</td>\n",
              "      <td>left_only</td>\n",
              "    </tr>\n",
              "    <tr>\n",
              "      <th>28341</th>\n",
              "      <td>وَفَّد</td>\n",
              "      <td>verb</td>\n",
              "      <td>5</td>\n",
              "      <td>وَفْد_1</td>\n",
              "      <td>وَفْدٌ</td>\n",
              "      <td>NaN</td>\n",
              "      <td>NaN</td>\n",
              "      <td>left_only</td>\n",
              "    </tr>\n",
              "    <tr>\n",
              "      <th>28342</th>\n",
              "      <td>وَقْفِيَّة</td>\n",
              "      <td>noun</td>\n",
              "      <td>5</td>\n",
              "      <td>وَقْفِيّ_1</td>\n",
              "      <td>وَقْفِيَّةً</td>\n",
              "      <td>NaN</td>\n",
              "      <td>NaN</td>\n",
              "      <td>left_only</td>\n",
              "    </tr>\n",
              "    <tr>\n",
              "      <th>28343</th>\n",
              "      <td>وَلَّه</td>\n",
              "      <td>verb</td>\n",
              "      <td>5</td>\n",
              "      <td>لِ-_1</td>\n",
              "      <td>وَلَهُ</td>\n",
              "      <td>NaN</td>\n",
              "      <td>NaN</td>\n",
              "      <td>left_only</td>\n",
              "    </tr>\n",
              "    <tr>\n",
              "      <th>28344</th>\n",
              "      <td>وَهَّل</td>\n",
              "      <td>verb</td>\n",
              "      <td>5</td>\n",
              "      <td>هَلْ_1</td>\n",
              "      <td>وَهَلْ</td>\n",
              "      <td>NaN</td>\n",
              "      <td>NaN</td>\n",
              "      <td>left_only</td>\n",
              "    </tr>\n",
              "  </tbody>\n",
              "</table>\n",
              "<p>19646 rows × 8 columns</p>\n",
              "</div>"
            ],
            "text/plain": [
              "              Word            pos  readability  ... Levels diac_y     _merge\n",
              "28              لا       part_neg            1  ...    NaN    NaN  left_only\n",
              "55           إِنَّ    verb_pseudo            3  ...    NaN    NaN  left_only\n",
              "58           رَأَى           verb            1  ...    NaN    NaN  left_only\n",
              "65         لٰكِنَّ    verb_pseudo            2  ...    NaN    NaN  left_only\n",
              "98           إِلّا  part_restrict            1  ...    NaN    NaN  left_only\n",
              "...            ...            ...          ...  ...    ...    ...        ...\n",
              "28340  وَظِيفِيَّة           noun            4  ...    NaN    NaN  left_only\n",
              "28341       وَفَّد           verb            5  ...    NaN    NaN  left_only\n",
              "28342   وَقْفِيَّة           noun            5  ...    NaN    NaN  left_only\n",
              "28343       وَلَّه           verb            5  ...    NaN    NaN  left_only\n",
              "28344       وَهَّل           verb            5  ...    NaN    NaN  left_only\n",
              "\n",
              "[19646 rows x 8 columns]"
            ]
          },
          "metadata": {
            "tags": []
          },
          "execution_count": 8
        }
      ]
    },
    {
      "cell_type": "markdown",
      "metadata": {
        "id": "iLlPzlEuq0Bx"
      },
      "source": [
        "Select the matched lemmas with same assigned level in both lists --> 1996 lemma"
      ]
    },
    {
      "cell_type": "code",
      "metadata": {
        "colab": {
          "base_uri": "https://localhost:8080/",
          "height": 408
        },
        "id": "LhKGKOQGKrcF",
        "outputId": "37c5cce1-9877-47b0-eacb-b167fda6bf7c"
      },
      "source": [
        "FullShared =MergedList.loc[MergedList['_merge'] == 'both']\r\n",
        "FullShared.loc[FullShared['readability']== FullShared['Levels']]"
      ],
      "execution_count": 9,
      "outputs": [
        {
          "output_type": "execute_result",
          "data": {
            "text/html": [
              "<div>\n",
              "<style scoped>\n",
              "    .dataframe tbody tr th:only-of-type {\n",
              "        vertical-align: middle;\n",
              "    }\n",
              "\n",
              "    .dataframe tbody tr th {\n",
              "        vertical-align: top;\n",
              "    }\n",
              "\n",
              "    .dataframe thead th {\n",
              "        text-align: right;\n",
              "    }\n",
              "</style>\n",
              "<table border=\"1\" class=\"dataframe\">\n",
              "  <thead>\n",
              "    <tr style=\"text-align: right;\">\n",
              "      <th></th>\n",
              "      <th>Word</th>\n",
              "      <th>pos</th>\n",
              "      <th>readability</th>\n",
              "      <th>lemma</th>\n",
              "      <th>diac_x</th>\n",
              "      <th>Levels</th>\n",
              "      <th>diac_y</th>\n",
              "      <th>_merge</th>\n",
              "    </tr>\n",
              "  </thead>\n",
              "  <tbody>\n",
              "    <tr>\n",
              "      <th>0</th>\n",
              "      <td>فِي</td>\n",
              "      <td>prep</td>\n",
              "      <td>1</td>\n",
              "      <td>فِي_1</td>\n",
              "      <td>فِي</td>\n",
              "      <td>1.0</td>\n",
              "      <td>فِي</td>\n",
              "      <td>both</td>\n",
              "    </tr>\n",
              "    <tr>\n",
              "      <th>2</th>\n",
              "      <td>مِن</td>\n",
              "      <td>prep</td>\n",
              "      <td>1</td>\n",
              "      <td>مِن_1</td>\n",
              "      <td>مِن</td>\n",
              "      <td>1.0</td>\n",
              "      <td>مِن</td>\n",
              "      <td>both</td>\n",
              "    </tr>\n",
              "    <tr>\n",
              "      <th>13</th>\n",
              "      <td>عَلَى</td>\n",
              "      <td>prep</td>\n",
              "      <td>1</td>\n",
              "      <td>عَلَى_1</td>\n",
              "      <td>عَلَى</td>\n",
              "      <td>1.0</td>\n",
              "      <td>عَلَى</td>\n",
              "      <td>both</td>\n",
              "    </tr>\n",
              "    <tr>\n",
              "      <th>14</th>\n",
              "      <td>عَلَى</td>\n",
              "      <td>prep</td>\n",
              "      <td>1</td>\n",
              "      <td>عَلَى_1</td>\n",
              "      <td>عَلَى</td>\n",
              "      <td>1.0</td>\n",
              "      <td>عَلَيكُم</td>\n",
              "      <td>both</td>\n",
              "    </tr>\n",
              "    <tr>\n",
              "      <th>15</th>\n",
              "      <td>إِلَى</td>\n",
              "      <td>prep</td>\n",
              "      <td>1</td>\n",
              "      <td>إِلَى_1</td>\n",
              "      <td>إِلَى</td>\n",
              "      <td>1.0</td>\n",
              "      <td>إِلَى</td>\n",
              "      <td>both</td>\n",
              "    </tr>\n",
              "    <tr>\n",
              "      <th>...</th>\n",
              "      <td>...</td>\n",
              "      <td>...</td>\n",
              "      <td>...</td>\n",
              "      <td>...</td>\n",
              "      <td>...</td>\n",
              "      <td>...</td>\n",
              "      <td>...</td>\n",
              "      <td>...</td>\n",
              "    </tr>\n",
              "    <tr>\n",
              "      <th>28063</th>\n",
              "      <td>تَنَشَّط</td>\n",
              "      <td>verb</td>\n",
              "      <td>3</td>\n",
              "      <td>نَشِط-َ_1</td>\n",
              "      <td>تَنْشَطُ</td>\n",
              "      <td>3.0</td>\n",
              "      <td>أَنْشَطَ</td>\n",
              "      <td>both</td>\n",
              "    </tr>\n",
              "    <tr>\n",
              "      <th>28178</th>\n",
              "      <td>عَثَّر</td>\n",
              "      <td>verb</td>\n",
              "      <td>4</td>\n",
              "      <td>عَثَر-ُ_1</td>\n",
              "      <td>عُثِرَ</td>\n",
              "      <td>4.0</td>\n",
              "      <td>عُثِرَ</td>\n",
              "      <td>both</td>\n",
              "    </tr>\n",
              "    <tr>\n",
              "      <th>28319</th>\n",
              "      <td>نُدُوَّة</td>\n",
              "      <td>noun</td>\n",
              "      <td>5</td>\n",
              "      <td>نَدْوَة_1</td>\n",
              "      <td>نَدْوَةً</td>\n",
              "      <td>5.0</td>\n",
              "      <td>نَدْوَةَ</td>\n",
              "      <td>both</td>\n",
              "    </tr>\n",
              "    <tr>\n",
              "      <th>28326</th>\n",
              "      <td>نَكَه</td>\n",
              "      <td>verb</td>\n",
              "      <td>5</td>\n",
              "      <td>وَكَى-ِ_1</td>\n",
              "      <td>نَكِهِ</td>\n",
              "      <td>5.0</td>\n",
              "      <td>أُوكَى</td>\n",
              "      <td>both</td>\n",
              "    </tr>\n",
              "    <tr>\n",
              "      <th>28345</th>\n",
              "      <td>يَوَّد</td>\n",
              "      <td>verb</td>\n",
              "      <td>5</td>\n",
              "      <td>وَدّ-َ_1</td>\n",
              "      <td>يَوَدُّ</td>\n",
              "      <td>5.0</td>\n",
              "      <td>أَوَدُّ</td>\n",
              "      <td>both</td>\n",
              "    </tr>\n",
              "  </tbody>\n",
              "</table>\n",
              "<p>1996 rows × 8 columns</p>\n",
              "</div>"
            ],
            "text/plain": [
              "           Word   pos  readability  ... Levels    diac_y  _merge\n",
              "0           فِي  prep            1  ...    1.0       فِي    both\n",
              "2           مِن  prep            1  ...    1.0       مِن    both\n",
              "13        عَلَى  prep            1  ...    1.0     عَلَى    both\n",
              "14        عَلَى  prep            1  ...    1.0  عَلَيكُم    both\n",
              "15        إِلَى  prep            1  ...    1.0     إِلَى    both\n",
              "...         ...   ...          ...  ...    ...       ...     ...\n",
              "28063  تَنَشَّط  verb            3  ...    3.0  أَنْشَطَ    both\n",
              "28178    عَثَّر  verb            4  ...    4.0    عُثِرَ    both\n",
              "28319  نُدُوَّة  noun            5  ...    5.0  نَدْوَةَ    both\n",
              "28326     نَكَه  verb            5  ...    5.0    أُوكَى    both\n",
              "28345    يَوَّد  verb            5  ...    5.0   أَوَدُّ    both\n",
              "\n",
              "[1996 rows x 8 columns]"
            ]
          },
          "metadata": {
            "tags": []
          },
          "execution_count": 9
        }
      ]
    },
    {
      "cell_type": "markdown",
      "metadata": {
        "id": "ZNvpbtn_rUHS"
      },
      "source": [
        "Select the other 6704 lemma with different readability levels"
      ]
    },
    {
      "cell_type": "code",
      "metadata": {
        "colab": {
          "base_uri": "https://localhost:8080/",
          "height": 408
        },
        "id": "6nAxunstL-0A",
        "outputId": "e5820123-58e5-458f-9b8b-3c172f62d061"
      },
      "source": [
        "NotShared =MergedList.loc[MergedList['_merge'] == 'both']\r\n",
        "NotShared.loc[NotShared['readability']!= NotShared['Levels']]"
      ],
      "execution_count": 10,
      "outputs": [
        {
          "output_type": "execute_result",
          "data": {
            "text/html": [
              "<div>\n",
              "<style scoped>\n",
              "    .dataframe tbody tr th:only-of-type {\n",
              "        vertical-align: middle;\n",
              "    }\n",
              "\n",
              "    .dataframe tbody tr th {\n",
              "        vertical-align: top;\n",
              "    }\n",
              "\n",
              "    .dataframe thead th {\n",
              "        text-align: right;\n",
              "    }\n",
              "</style>\n",
              "<table border=\"1\" class=\"dataframe\">\n",
              "  <thead>\n",
              "    <tr style=\"text-align: right;\">\n",
              "      <th></th>\n",
              "      <th>Word</th>\n",
              "      <th>pos</th>\n",
              "      <th>readability</th>\n",
              "      <th>lemma</th>\n",
              "      <th>diac_x</th>\n",
              "      <th>Levels</th>\n",
              "      <th>diac_y</th>\n",
              "      <th>_merge</th>\n",
              "    </tr>\n",
              "  </thead>\n",
              "  <tbody>\n",
              "    <tr>\n",
              "      <th>1</th>\n",
              "      <td>مِن</td>\n",
              "      <td>prep</td>\n",
              "      <td>1</td>\n",
              "      <td>مِن_1</td>\n",
              "      <td>مِن</td>\n",
              "      <td>5.0</td>\n",
              "      <td>فَمِنهُم</td>\n",
              "      <td>both</td>\n",
              "    </tr>\n",
              "    <tr>\n",
              "      <th>3</th>\n",
              "      <td>مِن</td>\n",
              "      <td>prep</td>\n",
              "      <td>1</td>\n",
              "      <td>مِن_1</td>\n",
              "      <td>مِن</td>\n",
              "      <td>5.0</td>\n",
              "      <td>مِمّا</td>\n",
              "      <td>both</td>\n",
              "    </tr>\n",
              "    <tr>\n",
              "      <th>4</th>\n",
              "      <td>أَنَّ</td>\n",
              "      <td>conj_sub</td>\n",
              "      <td>2</td>\n",
              "      <td>أَنَّ_1</td>\n",
              "      <td>أَنَّ</td>\n",
              "      <td>4.0</td>\n",
              "      <td>أَنِّي</td>\n",
              "      <td>both</td>\n",
              "    </tr>\n",
              "    <tr>\n",
              "      <th>5</th>\n",
              "      <td>أَنَّ</td>\n",
              "      <td>conj_sub</td>\n",
              "      <td>2</td>\n",
              "      <td>أَنَّ_1</td>\n",
              "      <td>أَنَّ</td>\n",
              "      <td>1.0</td>\n",
              "      <td>لِأَنِّي</td>\n",
              "      <td>both</td>\n",
              "    </tr>\n",
              "    <tr>\n",
              "      <th>6</th>\n",
              "      <td>أَنَّ</td>\n",
              "      <td>conj_sub</td>\n",
              "      <td>2</td>\n",
              "      <td>أَنَّ_1</td>\n",
              "      <td>أَنَّ</td>\n",
              "      <td>1.0</td>\n",
              "      <td>لِأَنَّكَ</td>\n",
              "      <td>both</td>\n",
              "    </tr>\n",
              "    <tr>\n",
              "      <th>...</th>\n",
              "      <td>...</td>\n",
              "      <td>...</td>\n",
              "      <td>...</td>\n",
              "      <td>...</td>\n",
              "      <td>...</td>\n",
              "      <td>...</td>\n",
              "      <td>...</td>\n",
              "      <td>...</td>\n",
              "    </tr>\n",
              "    <tr>\n",
              "      <th>28234</th>\n",
              "      <td>مُؤَمَّن</td>\n",
              "      <td>adj</td>\n",
              "      <td>4</td>\n",
              "      <td>مُؤْمِن_1</td>\n",
              "      <td>مُؤْمِنٍ</td>\n",
              "      <td>5.0</td>\n",
              "      <td>مُؤْمِنٍ</td>\n",
              "      <td>both</td>\n",
              "    </tr>\n",
              "    <tr>\n",
              "      <th>28246</th>\n",
              "      <td>مُتَطَلِّب</td>\n",
              "      <td>adj</td>\n",
              "      <td>4</td>\n",
              "      <td>مُتَطَلَّب_1</td>\n",
              "      <td>مُتَطَلَّبٍ</td>\n",
              "      <td>3.0</td>\n",
              "      <td>مُتَطَلَّبٍ</td>\n",
              "      <td>both</td>\n",
              "    </tr>\n",
              "    <tr>\n",
              "      <th>28288</th>\n",
              "      <td>مُغَنَّى</td>\n",
              "      <td>noun</td>\n",
              "      <td>3</td>\n",
              "      <td>مُغَنِّي_1</td>\n",
              "      <td>مُغَنِّي</td>\n",
              "      <td>5.0</td>\n",
              "      <td>مُغَنٍّ</td>\n",
              "      <td>both</td>\n",
              "    </tr>\n",
              "    <tr>\n",
              "      <th>28291</th>\n",
              "      <td>مُقَنَّع</td>\n",
              "      <td>adj</td>\n",
              "      <td>3</td>\n",
              "      <td>مُقْنِع_1</td>\n",
              "      <td>مُقْنِعٍ</td>\n",
              "      <td>4.0</td>\n",
              "      <td>مُقْنِعٍ</td>\n",
              "      <td>both</td>\n",
              "    </tr>\n",
              "    <tr>\n",
              "      <th>28334</th>\n",
              "      <td>وَرَّد</td>\n",
              "      <td>verb</td>\n",
              "      <td>4</td>\n",
              "      <td>رَدّ-ُ_1</td>\n",
              "      <td>وَرَدَّ</td>\n",
              "      <td>3.0</td>\n",
              "      <td>تَرُدُّ</td>\n",
              "      <td>both</td>\n",
              "    </tr>\n",
              "  </tbody>\n",
              "</table>\n",
              "<p>6704 rows × 8 columns</p>\n",
              "</div>"
            ],
            "text/plain": [
              "             Word       pos  readability  ... Levels       diac_y  _merge\n",
              "1             مِن      prep            1  ...    5.0     فَمِنهُم    both\n",
              "3             مِن      prep            1  ...    5.0        مِمّا    both\n",
              "4           أَنَّ  conj_sub            2  ...    4.0       أَنِّي    both\n",
              "5           أَنَّ  conj_sub            2  ...    1.0     لِأَنِّي    both\n",
              "6           أَنَّ  conj_sub            2  ...    1.0    لِأَنَّكَ    both\n",
              "...           ...       ...          ...  ...    ...          ...     ...\n",
              "28234    مُؤَمَّن       adj            4  ...    5.0     مُؤْمِنٍ    both\n",
              "28246  مُتَطَلِّب       adj            4  ...    3.0  مُتَطَلَّبٍ    both\n",
              "28288    مُغَنَّى      noun            3  ...    5.0      مُغَنٍّ    both\n",
              "28291    مُقَنَّع       adj            3  ...    4.0     مُقْنِعٍ    both\n",
              "28334      وَرَّد      verb            4  ...    3.0      تَرُدُّ    both\n",
              "\n",
              "[6704 rows x 8 columns]"
            ]
          },
          "metadata": {
            "tags": []
          },
          "execution_count": 10
        }
      ]
    },
    {
      "cell_type": "markdown",
      "metadata": {
        "id": "Z8PqpSKTr9vN"
      },
      "source": [
        "Select and sort a subset of the NotShared data with only the readability and levles to compare"
      ]
    },
    {
      "cell_type": "code",
      "metadata": {
        "id": "HdYnYqTdO6j8"
      },
      "source": [
        "NotShared = NotShared.loc[NotShared['readability']!= NotShared['Levels']]\r\n",
        "Data = NotShared[['readability','Levels']]\r\n",
        "Data =Data.sort_values(by=['readability', 'Levels'])"
      ],
      "execution_count": 11,
      "outputs": []
    },
    {
      "cell_type": "markdown",
      "metadata": {
        "id": "-mxuV9dnsTu2"
      },
      "source": [
        "counting how many times each difference between the lists have been repeated"
      ]
    },
    {
      "cell_type": "code",
      "metadata": {
        "id": "6zbvrCQiQ6Af",
        "colab": {
          "base_uri": "https://localhost:8080/"
        },
        "outputId": "d24d9d32-e0c0-448d-b08e-826430289760"
      },
      "source": [
        "c = Counter(list(zip(Data.readability, Data.Levels.astype(int))))\r\n",
        "c"
      ],
      "execution_count": 12,
      "outputs": [
        {
          "output_type": "execute_result",
          "data": {
            "text/plain": [
              "Counter({(1, 2): 359,\n",
              "         (1, 3): 589,\n",
              "         (1, 4): 441,\n",
              "         (1, 5): 395,\n",
              "         (2, 1): 148,\n",
              "         (2, 3): 310,\n",
              "         (2, 4): 353,\n",
              "         (2, 5): 369,\n",
              "         (3, 1): 135,\n",
              "         (3, 2): 217,\n",
              "         (3, 4): 403,\n",
              "         (3, 5): 785,\n",
              "         (4, 1): 113,\n",
              "         (4, 2): 155,\n",
              "         (4, 3): 299,\n",
              "         (4, 5): 1014,\n",
              "         (5, 1): 96,\n",
              "         (5, 2): 117,\n",
              "         (5, 3): 193,\n",
              "         (5, 4): 213})"
            ]
          },
          "metadata": {
            "tags": []
          },
          "execution_count": 12
        }
      ]
    },
    {
      "cell_type": "code",
      "metadata": {
        "id": "9k5-JvZnX5Rh",
        "colab": {
          "base_uri": "https://localhost:8080/",
          "height": 649
        },
        "outputId": "c2ef2e55-2749-4710-d6ba-c696670143f8"
      },
      "source": [
        "### converting the previous counter into a dataFrame to start visualisation and analysis\r\n",
        "df = pd.DataFrame.from_dict(c, orient='index').reset_index()\r\n",
        "df.columns = ['Data','Count']\r\n",
        "df"
      ],
      "execution_count": 13,
      "outputs": [
        {
          "output_type": "execute_result",
          "data": {
            "text/html": [
              "<div>\n",
              "<style scoped>\n",
              "    .dataframe tbody tr th:only-of-type {\n",
              "        vertical-align: middle;\n",
              "    }\n",
              "\n",
              "    .dataframe tbody tr th {\n",
              "        vertical-align: top;\n",
              "    }\n",
              "\n",
              "    .dataframe thead th {\n",
              "        text-align: right;\n",
              "    }\n",
              "</style>\n",
              "<table border=\"1\" class=\"dataframe\">\n",
              "  <thead>\n",
              "    <tr style=\"text-align: right;\">\n",
              "      <th></th>\n",
              "      <th>Data</th>\n",
              "      <th>Count</th>\n",
              "    </tr>\n",
              "  </thead>\n",
              "  <tbody>\n",
              "    <tr>\n",
              "      <th>0</th>\n",
              "      <td>(1, 2)</td>\n",
              "      <td>359</td>\n",
              "    </tr>\n",
              "    <tr>\n",
              "      <th>1</th>\n",
              "      <td>(1, 3)</td>\n",
              "      <td>589</td>\n",
              "    </tr>\n",
              "    <tr>\n",
              "      <th>2</th>\n",
              "      <td>(1, 4)</td>\n",
              "      <td>441</td>\n",
              "    </tr>\n",
              "    <tr>\n",
              "      <th>3</th>\n",
              "      <td>(1, 5)</td>\n",
              "      <td>395</td>\n",
              "    </tr>\n",
              "    <tr>\n",
              "      <th>4</th>\n",
              "      <td>(2, 1)</td>\n",
              "      <td>148</td>\n",
              "    </tr>\n",
              "    <tr>\n",
              "      <th>5</th>\n",
              "      <td>(2, 3)</td>\n",
              "      <td>310</td>\n",
              "    </tr>\n",
              "    <tr>\n",
              "      <th>6</th>\n",
              "      <td>(2, 4)</td>\n",
              "      <td>353</td>\n",
              "    </tr>\n",
              "    <tr>\n",
              "      <th>7</th>\n",
              "      <td>(2, 5)</td>\n",
              "      <td>369</td>\n",
              "    </tr>\n",
              "    <tr>\n",
              "      <th>8</th>\n",
              "      <td>(3, 1)</td>\n",
              "      <td>135</td>\n",
              "    </tr>\n",
              "    <tr>\n",
              "      <th>9</th>\n",
              "      <td>(3, 2)</td>\n",
              "      <td>217</td>\n",
              "    </tr>\n",
              "    <tr>\n",
              "      <th>10</th>\n",
              "      <td>(3, 4)</td>\n",
              "      <td>403</td>\n",
              "    </tr>\n",
              "    <tr>\n",
              "      <th>11</th>\n",
              "      <td>(3, 5)</td>\n",
              "      <td>785</td>\n",
              "    </tr>\n",
              "    <tr>\n",
              "      <th>12</th>\n",
              "      <td>(4, 1)</td>\n",
              "      <td>113</td>\n",
              "    </tr>\n",
              "    <tr>\n",
              "      <th>13</th>\n",
              "      <td>(4, 2)</td>\n",
              "      <td>155</td>\n",
              "    </tr>\n",
              "    <tr>\n",
              "      <th>14</th>\n",
              "      <td>(4, 3)</td>\n",
              "      <td>299</td>\n",
              "    </tr>\n",
              "    <tr>\n",
              "      <th>15</th>\n",
              "      <td>(4, 5)</td>\n",
              "      <td>1014</td>\n",
              "    </tr>\n",
              "    <tr>\n",
              "      <th>16</th>\n",
              "      <td>(5, 1)</td>\n",
              "      <td>96</td>\n",
              "    </tr>\n",
              "    <tr>\n",
              "      <th>17</th>\n",
              "      <td>(5, 2)</td>\n",
              "      <td>117</td>\n",
              "    </tr>\n",
              "    <tr>\n",
              "      <th>18</th>\n",
              "      <td>(5, 3)</td>\n",
              "      <td>193</td>\n",
              "    </tr>\n",
              "    <tr>\n",
              "      <th>19</th>\n",
              "      <td>(5, 4)</td>\n",
              "      <td>213</td>\n",
              "    </tr>\n",
              "  </tbody>\n",
              "</table>\n",
              "</div>"
            ],
            "text/plain": [
              "      Data  Count\n",
              "0   (1, 2)    359\n",
              "1   (1, 3)    589\n",
              "2   (1, 4)    441\n",
              "3   (1, 5)    395\n",
              "4   (2, 1)    148\n",
              "5   (2, 3)    310\n",
              "6   (2, 4)    353\n",
              "7   (2, 5)    369\n",
              "8   (3, 1)    135\n",
              "9   (3, 2)    217\n",
              "10  (3, 4)    403\n",
              "11  (3, 5)    785\n",
              "12  (4, 1)    113\n",
              "13  (4, 2)    155\n",
              "14  (4, 3)    299\n",
              "15  (4, 5)   1014\n",
              "16  (5, 1)     96\n",
              "17  (5, 2)    117\n",
              "18  (5, 3)    193\n",
              "19  (5, 4)    213"
            ]
          },
          "metadata": {
            "tags": []
          },
          "execution_count": 13
        }
      ]
    },
    {
      "cell_type": "markdown",
      "metadata": {
        "id": "thqAYFbCuHOJ"
      },
      "source": [
        "ploting the whole counter in one graph"
      ]
    },
    {
      "cell_type": "code",
      "metadata": {
        "colab": {
          "base_uri": "https://localhost:8080/",
          "height": 374
        },
        "id": "vsj7o2cxR6k6",
        "outputId": "80e8d241-0a3b-4706-dd49-7322a8c17103"
      },
      "source": [
        "# plt styling parameters\r\n",
        "plt.style.use('seaborn')\r\n",
        "plt.rcParams['figure.figsize'] = (10.0, 6.0)\r\n",
        "plt.rcParams[\"patch.force_edgecolor\"] = True\r\n",
        "\r\n",
        "# create a color palette the length of the dataframe\r\n",
        "colors = sns.color_palette('husl', n_colors=len(df))\r\n",
        "fig, ax = plt.subplots()\r\n",
        "# plot\r\n",
        "p = sns.barplot(x=df.index, y='Count', data=df, hue='Data')\r\n",
        "\r\n",
        "# place the legend to the right of the plot\r\n",
        "plt.legend(bbox_to_anchor=(1.04, 0.5), loc='center left', borderaxespad=0)\r\n",
        "\r\n",
        "def change_width(ax, new_value) :\r\n",
        "    for patch in ax.patches :\r\n",
        "        current_width = patch.get_width()\r\n",
        "        diff = current_width - new_value\r\n",
        "\r\n",
        "        # we change the bar width\r\n",
        "        patch.set_width(new_value)\r\n",
        "\r\n",
        "        # we recenter the bar\r\n",
        "        patch.set_x(patch.get_x() + diff * .5)\r\n",
        "\r\n",
        "change_width(ax, .35)\r\n",
        "plt.show()"
      ],
      "execution_count": null,
      "outputs": [
        {
          "output_type": "display_data",
          "data": {
            "image/png": "[encoded data removed]",
            "text/plain": [
              "<Figure size 720x432 with 1 Axes>"
            ]
          },
          "metadata": {
            "tags": []
          }
        }
      ]
    },
    {
      "cell_type": "code",
      "metadata": {
        "id": "FnNbiOY6hBLO",
        "colab": {
          "base_uri": "https://localhost:8080/",
          "height": 649
        },
        "outputId": "dd2b3f54-fea8-4c37-e4d1-6cc1a90c1092"
      },
      "source": [
        "#### adding a new column represnting the main level for each difference so we can visual each diffeence alone\r\n",
        "column = ['A1','A1','A1','A1','A2','A2','A2','A2','B1','B1','B1','B1','B2','B2','B2','B2','C1','C1','C1','C1']\r\n",
        "len(column)\r\n",
        "df['Type'] = column\r\n",
        "df"
      ],
      "execution_count": 14,
      "outputs": [
        {
          "output_type": "execute_result",
          "data": {
            "text/html": [
              "<div>\n",
              "<style scoped>\n",
              "    .dataframe tbody tr th:only-of-type {\n",
              "        vertical-align: middle;\n",
              "    }\n",
              "\n",
              "    .dataframe tbody tr th {\n",
              "        vertical-align: top;\n",
              "    }\n",
              "\n",
              "    .dataframe thead th {\n",
              "        text-align: right;\n",
              "    }\n",
              "</style>\n",
              "<table border=\"1\" class=\"dataframe\">\n",
              "  <thead>\n",
              "    <tr style=\"text-align: right;\">\n",
              "      <th></th>\n",
              "      <th>Data</th>\n",
              "      <th>Count</th>\n",
              "      <th>Type</th>\n",
              "    </tr>\n",
              "  </thead>\n",
              "  <tbody>\n",
              "    <tr>\n",
              "      <th>0</th>\n",
              "      <td>(1, 2)</td>\n",
              "      <td>359</td>\n",
              "      <td>A1</td>\n",
              "    </tr>\n",
              "    <tr>\n",
              "      <th>1</th>\n",
              "      <td>(1, 3)</td>\n",
              "      <td>589</td>\n",
              "      <td>A1</td>\n",
              "    </tr>\n",
              "    <tr>\n",
              "      <th>2</th>\n",
              "      <td>(1, 4)</td>\n",
              "      <td>441</td>\n",
              "      <td>A1</td>\n",
              "    </tr>\n",
              "    <tr>\n",
              "      <th>3</th>\n",
              "      <td>(1, 5)</td>\n",
              "      <td>395</td>\n",
              "      <td>A1</td>\n",
              "    </tr>\n",
              "    <tr>\n",
              "      <th>4</th>\n",
              "      <td>(2, 1)</td>\n",
              "      <td>148</td>\n",
              "      <td>A2</td>\n",
              "    </tr>\n",
              "    <tr>\n",
              "      <th>5</th>\n",
              "      <td>(2, 3)</td>\n",
              "      <td>310</td>\n",
              "      <td>A2</td>\n",
              "    </tr>\n",
              "    <tr>\n",
              "      <th>6</th>\n",
              "      <td>(2, 4)</td>\n",
              "      <td>353</td>\n",
              "      <td>A2</td>\n",
              "    </tr>\n",
              "    <tr>\n",
              "      <th>7</th>\n",
              "      <td>(2, 5)</td>\n",
              "      <td>369</td>\n",
              "      <td>A2</td>\n",
              "    </tr>\n",
              "    <tr>\n",
              "      <th>8</th>\n",
              "      <td>(3, 1)</td>\n",
              "      <td>135</td>\n",
              "      <td>B1</td>\n",
              "    </tr>\n",
              "    <tr>\n",
              "      <th>9</th>\n",
              "      <td>(3, 2)</td>\n",
              "      <td>217</td>\n",
              "      <td>B1</td>\n",
              "    </tr>\n",
              "    <tr>\n",
              "      <th>10</th>\n",
              "      <td>(3, 4)</td>\n",
              "      <td>403</td>\n",
              "      <td>B1</td>\n",
              "    </tr>\n",
              "    <tr>\n",
              "      <th>11</th>\n",
              "      <td>(3, 5)</td>\n",
              "      <td>785</td>\n",
              "      <td>B1</td>\n",
              "    </tr>\n",
              "    <tr>\n",
              "      <th>12</th>\n",
              "      <td>(4, 1)</td>\n",
              "      <td>113</td>\n",
              "      <td>B2</td>\n",
              "    </tr>\n",
              "    <tr>\n",
              "      <th>13</th>\n",
              "      <td>(4, 2)</td>\n",
              "      <td>155</td>\n",
              "      <td>B2</td>\n",
              "    </tr>\n",
              "    <tr>\n",
              "      <th>14</th>\n",
              "      <td>(4, 3)</td>\n",
              "      <td>299</td>\n",
              "      <td>B2</td>\n",
              "    </tr>\n",
              "    <tr>\n",
              "      <th>15</th>\n",
              "      <td>(4, 5)</td>\n",
              "      <td>1014</td>\n",
              "      <td>B2</td>\n",
              "    </tr>\n",
              "    <tr>\n",
              "      <th>16</th>\n",
              "      <td>(5, 1)</td>\n",
              "      <td>96</td>\n",
              "      <td>C1</td>\n",
              "    </tr>\n",
              "    <tr>\n",
              "      <th>17</th>\n",
              "      <td>(5, 2)</td>\n",
              "      <td>117</td>\n",
              "      <td>C1</td>\n",
              "    </tr>\n",
              "    <tr>\n",
              "      <th>18</th>\n",
              "      <td>(5, 3)</td>\n",
              "      <td>193</td>\n",
              "      <td>C1</td>\n",
              "    </tr>\n",
              "    <tr>\n",
              "      <th>19</th>\n",
              "      <td>(5, 4)</td>\n",
              "      <td>213</td>\n",
              "      <td>C1</td>\n",
              "    </tr>\n",
              "  </tbody>\n",
              "</table>\n",
              "</div>"
            ],
            "text/plain": [
              "      Data  Count Type\n",
              "0   (1, 2)    359   A1\n",
              "1   (1, 3)    589   A1\n",
              "2   (1, 4)    441   A1\n",
              "3   (1, 5)    395   A1\n",
              "4   (2, 1)    148   A2\n",
              "5   (2, 3)    310   A2\n",
              "6   (2, 4)    353   A2\n",
              "7   (2, 5)    369   A2\n",
              "8   (3, 1)    135   B1\n",
              "9   (3, 2)    217   B1\n",
              "10  (3, 4)    403   B1\n",
              "11  (3, 5)    785   B1\n",
              "12  (4, 1)    113   B2\n",
              "13  (4, 2)    155   B2\n",
              "14  (4, 3)    299   B2\n",
              "15  (4, 5)   1014   B2\n",
              "16  (5, 1)     96   C1\n",
              "17  (5, 2)    117   C1\n",
              "18  (5, 3)    193   C1\n",
              "19  (5, 4)    213   C1"
            ]
          },
          "metadata": {
            "tags": []
          },
          "execution_count": 14
        }
      ]
    },
    {
      "cell_type": "markdown",
      "metadata": {
        "id": "ObbLtuEdvel_"
      },
      "source": [
        "ploting each level on its own figure."
      ]
    },
    {
      "cell_type": "code",
      "metadata": {
        "id": "BwvAO4wJjS-m",
        "colab": {
          "base_uri": "https://localhost:8080/",
          "height": 788
        },
        "outputId": "b9791819-84e7-4da3-b394-d1e32dfb0117"
      },
      "source": [
        " fig, axes = plt.subplots(nrows=3, ncols=2, figsize=(8, 12))\r\n",
        " df.loc[df['Type']== 'A1'].plot(kind='bar',ax=axes[0,0],color='red'); axes[0,0].set_title('A1=1')\r\n",
        " df.loc[df['Type']== 'A2'].plot(kind='bar',ax=axes[0,1],color='Green'); axes[0,1].set_title('A2=2')\r\n",
        " df.loc[df['Type']== 'B1'].plot(kind='bar',ax=axes[1,0]); axes[1,0].set_title('B1=3') \r\n",
        " df.loc[df['Type']== 'B2'].plot(kind='bar',ax=axes[1,1],color='Pink'); axes[1,1].set_title('B2=4')\r\n",
        " df.loc[df['Type']== 'C1'].plot(kind='bar',ax=axes[2,0],color='brown'); axes[2,0].set_title('C=5')"
      ],
      "execution_count": null,
      "outputs": [
        {
          "output_type": "stream",
          "text": [
            "/usr/local/lib/python3.6/dist-packages/pandas/plotting/_matplotlib/style.py:64: MatplotlibDeprecationWarning: Support for uppercase single-letter colors is deprecated since Matplotlib 3.1 and will be removed in 3.3; please use lowercase instead.\n",
            "  [conv.to_rgba(c) for c in colors]\n"
          ],
          "name": "stderr"
        },
        {
          "output_type": "execute_result",
          "data": {
            "text/plain": [
              "Text(0.5, 1.0, 'C=5')"
            ]
          },
          "metadata": {
            "tags": []
          },
          "execution_count": 41
        },
        {
          "output_type": "display_data",
          "data": {
            "image/png": "[encoded data removed]",
            "text/plain": [
              "<Figure size 576x864 with 6 Axes>"
            ]
          },
          "metadata": {
            "tags": []
          }
        }
      ]
    },
    {
      "cell_type": "markdown",
      "metadata": {
        "id": "1QpHKem7zvwv"
      },
      "source": [
        "as we mainly intersted in the most difficult words in level 5, we manually analysed the 96 words that assigned with level 5 in Samer while assigned with level 1 in our list.\r\n"
      ]
    },
    {
      "cell_type": "code",
      "metadata": {
        "id": "mRb_8HVHkEc7"
      },
      "source": [
        "###Generating the (5,1) 96 lemma list\r\n",
        "List5_1 = NotShared.loc[NotShared['readability']== 5].loc[NotShared['Levels']==1]\r\n",
        "List5_1.to_csv('5_1_list.csv')"
      ],
      "execution_count": null,
      "outputs": []
    },
    {
      "cell_type": "markdown",
      "metadata": {
        "id": "JAINlq1w0S4g"
      },
      "source": [
        "# The manual analysis shows that:\r\n",
        "## 1-  some of the words a rarly used and even analysed with Madamira to a most simple lemma such as:13304,بَلاد,noun,5,بَلَد_1,بِلادٍ,1.0,بَلَدٍ,both\r\n",
        "in this example is a rare word i do not even know what does it mean and MADAMira analysed it into a word means countries which have the same orthographical form.\r\n",
        "## 2- 14010,مُعِيد,noun,5,مُعِيد_1,مُعِيدٍ,1.0,مُعِيدٌ,both\r\n",
        "this word means a lecturer in an university which i believe could be in lower levels as it is considered as a job.\r\n",
        "## 3- also in : 15164,قارَة,noun,5,قارَّة_1,قارَّةَ,1.0,قارَّةٌ,both\r\n",
        "is the same case as previous you should know the continental name.\r\n"
      ]
    },
    {
      "cell_type": "code",
      "metadata": {
        "id": "Px1RuS2lwclr"
      },
      "source": [
        "1,مِن,prep,1,مِن_1,مِن,5.0,فَمِنهُم,both\r\n",
        "13304,بَلاد,noun,5,بَلَد_1,بِلادٍ,1.0,بَلَدٍ,both\r\n",
        "14010,مُعِيد,noun,5,مُعِيد_1,مُعِيدٍ,1.0,مُعِيدٌ,both\r\n",
        "15164,قارَة,noun,5,قارَّة_1,قارَّةَ,1.0,قارَّةٌ,both\r\n",
        "9214,أَكَلّ,verb,5,أَكَل-ُ_1,أَكَلَ,1.0,يَأْكُلُ,both\r\n"
      ],
      "execution_count": null,
      "outputs": []
    },
    {
      "cell_type": "markdown",
      "metadata": {
        "id": "M6tLO39G3gxd"
      },
      "source": [
        "just to check how many is different for each level"
      ]
    },
    {
      "cell_type": "code",
      "metadata": {
        "colab": {
          "base_uri": "https://localhost:8080/",
          "height": 228
        },
        "id": "Yk4g7kuB2tyF",
        "outputId": "08461eb4-1f45-4fca-f6c2-ff99d305e8f0"
      },
      "source": [
        "df[['Count','Type']].groupby(['Type']).sum()"
      ],
      "execution_count": 16,
      "outputs": [
        {
          "output_type": "execute_result",
          "data": {
            "text/html": [
              "<div>\n",
              "<style scoped>\n",
              "    .dataframe tbody tr th:only-of-type {\n",
              "        vertical-align: middle;\n",
              "    }\n",
              "\n",
              "    .dataframe tbody tr th {\n",
              "        vertical-align: top;\n",
              "    }\n",
              "\n",
              "    .dataframe thead th {\n",
              "        text-align: right;\n",
              "    }\n",
              "</style>\n",
              "<table border=\"1\" class=\"dataframe\">\n",
              "  <thead>\n",
              "    <tr style=\"text-align: right;\">\n",
              "      <th></th>\n",
              "      <th>Count</th>\n",
              "    </tr>\n",
              "    <tr>\n",
              "      <th>Type</th>\n",
              "      <th></th>\n",
              "    </tr>\n",
              "  </thead>\n",
              "  <tbody>\n",
              "    <tr>\n",
              "      <th>A1</th>\n",
              "      <td>1784</td>\n",
              "    </tr>\n",
              "    <tr>\n",
              "      <th>A2</th>\n",
              "      <td>1180</td>\n",
              "    </tr>\n",
              "    <tr>\n",
              "      <th>B1</th>\n",
              "      <td>1540</td>\n",
              "    </tr>\n",
              "    <tr>\n",
              "      <th>B2</th>\n",
              "      <td>1581</td>\n",
              "    </tr>\n",
              "    <tr>\n",
              "      <th>C1</th>\n",
              "      <td>619</td>\n",
              "    </tr>\n",
              "  </tbody>\n",
              "</table>\n",
              "</div>"
            ],
            "text/plain": [
              "      Count\n",
              "Type       \n",
              "A1     1784\n",
              "A2     1180\n",
              "B1     1540\n",
              "B2     1581\n",
              "C1      619"
            ]
          },
          "metadata": {
            "tags": []
          },
          "execution_count": 16
        }
      ]
    },
    {
      "cell_type": "code",
      "metadata": {
        "colab": {
          "base_uri": "https://localhost:8080/",
          "height": 300
        },
        "id": "HK1Ky-T33ufl",
        "outputId": "5a92f67e-d941-4b90-818b-0acec9a8177c"
      },
      "source": [
        "D_df = df[['Count','Type']].groupby(['Type']).sum()\r\n",
        "D_df.plot(kind='bar')"
      ],
      "execution_count": 21,
      "outputs": [
        {
          "output_type": "execute_result",
          "data": {
            "text/plain": [
              "<matplotlib.axes._subplots.AxesSubplot at 0x7f5f7bb8c860>"
            ]
          },
          "metadata": {
            "tags": []
          },
          "execution_count": 21
        },
        {
          "output_type": "display_data",
          "data": {
            "image/png": "[encoded data removed]",
            "text/plain": [
              "<Figure size 432x288 with 1 Axes>"
            ]
          },
          "metadata": {
            "tags": [],
            "needs_background": "light"
          }
        }
      ]
    },
    {
      "cell_type": "code",
      "metadata": {
        "id": "xsRWX5or33oI"
      },
      "source": [
        ""
      ],
      "execution_count": null,
      "outputs": []
    }
  ]
}
